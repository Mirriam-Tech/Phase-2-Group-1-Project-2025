{
 "cells": [
  {
   "cell_type": "markdown",
   "id": "b6521e8f",
   "metadata": {},
   "source": [
    "# PHASE 2 PROJECT\n",
    "\n",
    "Business Objective:\n",
    "Your company is launching a movie studio. You have been tasked with analyzing current trends in movies to provide 3 actionable recommendations for what types of movies the studio should produce.\n",
    "\n",
    "Key Business Questions:\n",
    "\n",
    "What genres tend to perform best at the box office?\n",
    "\n",
    "Are highly rated movies (IMDB ratings) more successful?\n",
    "\n",
    "Does release timing (month) influence box office performance?"
   ]
  },
  {
   "cell_type": "markdown",
   "id": "b25a315b",
   "metadata": {},
   "source": [
    "2. Data Loading and Initial Exploration\n",
    "Import Libraries"
   ]
  },
  {
   "cell_type": "code",
   "execution_count": 8,
   "id": "b7e1ee31",
   "metadata": {},
   "outputs": [],
   "source": [
    "import numpy as np\n",
    "import matplotlib.pyplot as plt\n",
    "import seaborn as sns\n",
    "import sqlite3\n",
    "import pandas as pd"
   ]
  },
  {
   "cell_type": "markdown",
   "id": "26d3b98f",
   "metadata": {},
   "source": [
    "Load Datasets"
   ]
  },
  {
   "cell_type": "code",
   "execution_count": 9,
   "id": "8a029c7c",
   "metadata": {},
   "outputs": [],
   "source": [
    "conn = sqlite3.connect('im.db')\n",
    "\n",
    "# Check available tables\n",
    "pd.read_sql_query(\"SELECT name FROM sqlite_master WHERE type='table';\", conn)\n",
    "\n",
    "# Load movie_basics and movie_ratings\n",
    "df_basics = pd.read_sql_query(\"SELECT * FROM movie_basics;\", conn)\n",
    "df_ratings = pd.read_sql_query(\"SELECT * FROM movie_ratings;\", conn)"
   ]
  }
 ],
 "metadata": {
  "kernelspec": {
   "display_name": "myenv",
   "language": "python",
   "name": "python3"
  },
  "language_info": {
   "codemirror_mode": {
    "name": "ipython",
    "version": 3
   },
   "file_extension": ".py",
   "mimetype": "text/x-python",
   "name": "python",
   "nbconvert_exporter": "python",
   "pygments_lexer": "ipython3",
   "version": "3.10.16"
  }
 },
 "nbformat": 4,
 "nbformat_minor": 5
}
