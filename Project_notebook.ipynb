{
 "cells": [
  {
   "cell_type": "markdown",
   "id": "715452de",
   "metadata": {},
   "source": [
    "\n",
    "\n",
    "# Movie Industry Data Analysis Project Group 1\n",
    "\n",
    "This notebook analyzes movie data to answer key business questions for a new movie studio.\n",
    "## Business Problem\n",
    "\n",
    "Our company is planning to enter the film industry and launch a new movie studio. However, with no prior experience in movie production, we need to conduct thorough data analysis to guide our decisions. \n",
    "\n",
    "We aim to answer the following business questions:\n",
    "\n",
    "1️⃣ What genres tend to perform best at the box office?  \n",
    "2️⃣ Do critic ratings predict box office success?  \n",
    "3️⃣ How do production budgets correlate with box office revenue?  \n",
    "  \n",
    "\n",
    "By answering these, we aim to make data-driven decisions on genre selection, budget allocation, and release scheduling.\n"
   ]
  },
  {
   "cell_type": "markdown",
   "id": "2cc03dff",
   "metadata": {},
   "source": [
    "## Table of Contents\n",
    "\n",
    "- [1. Data Loading](#Data-Loading)\n",
    "- [2. Data Cleaning](#Data-Cleaning)\n",
    "- [3. Merging Datasets](#Merging-Datasets)\n",
    "- [4. Exploratory Data Analysis](#Exploratory-Data-Analysis)\n",
    "- [5. Business Recommendations](#Business-Recommendations)\n"
   ]
  },
  {
   "cell_type": "markdown",
   "id": "936a936f",
   "metadata": {},
   "source": [
    "## 1. Data Loading\n",
    "\n",
    "We load all required datasets into pandas dataframes from both SQLite database and CSV/TSV files. These contain IMDB data, budget data, box office revenues, and Rotten Tomatoes info."
   ]
  },
  {
   "cell_type": "code",
   "execution_count": null,
   "id": "535db3f7",
   "metadata": {},
   "outputs": [],
   "source": [
    "import numpy as np\n",
    "import matplotlib.pyplot as plt\n",
    "import seaborn as sns\n",
    "import sqlite3\n",
    "import pandas as pd\n",
    "import re\n",
    "\n",
    "# Load IMDB database tables\n",
    "conn = sqlite3.connect(\"im.db\")\n",
    "df_basics = pd.read_sql_query(\"SELECT * FROM movie_basics\", conn)\n",
    "df_ratings = pd.read_sql_query(\"SELECT * FROM movie_ratings\", conn)\n",
    "\n",
    "# Load external CSV & TSV files\n",
    "df_bom = pd.read_csv(\"bom.movie_gross.csv\")\n",
    "df_budgets = pd.read_csv(\"tn.movie_budgets.csv\")\n",
    "df_rt_info = pd.read_csv(\"rt.movie_info.tsv\", sep=\"\\t\", encoding=\"latin1\")\n"
   ]
  },
  {
   "cell_type": "markdown",
   "id": "d52867c4",
   "metadata": {},
   "source": []
  }
 ],
 "metadata": {
  "kernelspec": {
   "display_name": "base",
   "language": "python",
   "name": "python3"
  },
  "language_info": {
   "codemirror_mode": {
    "name": "ipython",
    "version": 3
   },
   "file_extension": ".py",
   "mimetype": "text/x-python",
   "name": "python",
   "nbconvert_exporter": "python",
   "pygments_lexer": "ipython3",
   "version": "3.12.7"
  }
 },
 "nbformat": 4,
 "nbformat_minor": 5
}
