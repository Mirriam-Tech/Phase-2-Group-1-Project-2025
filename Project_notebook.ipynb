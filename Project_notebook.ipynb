{
 "cells": [
  {
   "cell_type": "markdown",
   "id": "715452de",
   "metadata": {},
   "source": [
    "\n",
    "\n",
    "# Movie Industry Data Analysis Project Group 1\n",
    "\n",
    "This notebook analyzes movie data to answer key business questions for a new movie studio.\n",
    "## Business Problem\n",
    "\n",
    "Our company is planning to enter the film industry and launch a new movie studio. However, with no prior experience in movie production, we need to conduct thorough data analysis to guide our decisions. \n",
    "\n",
    "We aim to answer the following business questions:\n",
    "\n",
    "1️⃣ What genres tend to perform best at the box office?  \n",
    "2️⃣ Do critic ratings predict box office success?  \n",
    "3️⃣ How do production budgets correlate with box office revenue?  \n",
    "  \n",
    "\n",
    "By answering these, we aim to make data-driven decisions on genre selection, budget allocation, and release scheduling.\n"
   ]
  },
  {
   "cell_type": "markdown",
   "id": "2cc03dff",
   "metadata": {},
   "source": [
    "## Table of Contents\n",
    "\n",
    "- [1. Data Loading](#Data-Loading)\n",
    "- [2. Data Cleaning](#Data-Cleaning)\n",
    "- [3. Merging Datasets](#Merging-Datasets)\n",
    "- [4. Exploratory Data Analysis](#Exploratory-Data-Analysis)\n",
    "- [5. Business Recommendations](#Business-Recommendations)\n"
   ]
  },
  {
   "cell_type": "markdown",
   "id": "936a936f",
   "metadata": {},
   "source": [
    "## 1. Data Loading\n",
    "\n",
    "We load all required datasets into pandas dataframes from both SQLite database and CSV/TSV files. These contain IMDB data, budget data, box office revenues, and Rotten Tomatoes info."
   ]
  },
  {
   "cell_type": "code",
   "execution_count": 2,
   "id": "535db3f7",
   "metadata": {},
   "outputs": [
    {
     "ename": "RuntimeError",
     "evalue": "module compiled against API version 0xe but this version of numpy is 0xd",
     "output_type": "error",
     "traceback": [
      "\u001b[1;31m---------------------------------------------------------------------------\u001b[0m",
      "\u001b[1;31mRuntimeError\u001b[0m                              Traceback (most recent call last)",
      "\u001b[1;31mRuntimeError\u001b[0m: module compiled against API version 0xe but this version of numpy is 0xd"
     ]
    }
   ],
   "source": [
    "import numpy as np\n",
    "import matplotlib.pyplot as plt\n",
    "import seaborn as sns\n",
    "import sqlite3\n",
    "import pandas as pd\n",
    "import re\n",
    "\n",
    "# Load IMDB database tables\n",
    "conn = sqlite3.connect(\"im.db\")\n",
    "df_basics = pd.read_sql_query(\"SELECT * FROM movie_basics\", conn)\n",
    "df_ratings = pd.read_sql_query(\"SELECT * FROM movie_ratings\", conn)\n",
    "\n",
    "# Load external CSV & TSV files\n",
    "df_bom = pd.read_csv(\"bom.movie_gross.csv\")\n",
    "df_budgets = pd.read_csv(\"tn.movie_budgets.csv\")\n",
    "df_rt_info = pd.read_csv(\"rt.movie_info.tsv\", sep=\"\\t\", encoding=\"latin1\")\n"
   ]
  },
  {
   "cell_type": "markdown",
   "id": "d544d8ba",
   "metadata": {},
   "source": [
    "## 2. Data Cleaning\n",
    "\n",
    "Each dataset has different formats, missing values, and currency strings. We'll clean them one by one to prepare for merging."
   ]
  },
  {
   "cell_type": "markdown",
   "id": "48a132a7",
   "metadata": {},
   "source": [
    "### Clean IMDB movie_basics\n",
    "\n",
    "We clean movie_basics by:\n",
    "\n",
    "- Converting year and runtime to numeric (handle non-numeric values).\n",
    "- Replacing missing genres with 'Unknown'.\n",
    "- Creating a lowercase title field for future merging across datasets.\n"
   ]
  },
  {
   "cell_type": "code",
   "execution_count": 3,
   "id": "c26070dc",
   "metadata": {},
   "outputs": [],
   "source": [
    "\n",
    "df_basics['start_year'] = pd.to_numeric(df_basics['start_year'], errors='coerce')\n",
    "df_basics['runtime_minutes'] = pd.to_numeric(df_basics['runtime_minutes'], errors='coerce')\n",
    "df_basics['genres'] = df_basics['genres'].replace('\\\\N', pd.NA).fillna('Unknown')\n",
    "df_basics['clean_title'] = df_basics['primary_title'].str.lower().str.strip()\n"
   ]
  },
  {
   "cell_type": "markdown",
   "id": "b93d7fb1",
   "metadata": {},
   "source": [
    "### Clean IMDB movie_ratings\n",
    "\n",
    "We convert ratings & vote counts to numeric and filter out movies with very few votes (under 50) to ensure we're using stable ratings.\n"
   ]
  },
  {
   "cell_type": "code",
   "execution_count": 4,
   "id": "d2c0e57f",
   "metadata": {},
   "outputs": [],
   "source": [
    "\n",
    "df_ratings['averagerating'] = pd.to_numeric(df_ratings['averagerating'], errors='coerce')\n",
    "df_ratings['numvotes'] = pd.to_numeric(df_ratings['numvotes'], errors='coerce')\n",
    "df_ratings = df_ratings[df_ratings['numvotes'] >= 50]\n"
   ]
  },
  {
   "cell_type": "markdown",
   "id": "c768d919",
   "metadata": {},
   "source": [
    "### Clean BOM movie_gross\n",
    "\n",
    "We convert the revenue columns to numeric and clean titles for merging.\n"
   ]
  },
  {
   "cell_type": "code",
   "execution_count": 5,
   "id": "be1a6ed5",
   "metadata": {},
   "outputs": [],
   "source": [
    "\n",
    "df_bom['domestic_gross'] = pd.to_numeric(df_bom['domestic_gross'], errors='coerce')\n",
    "df_bom['foreign_gross'] = pd.to_numeric(df_bom['foreign_gross'], errors='coerce')\n",
    "df_bom['clean_title'] = df_bom['title'].str.lower().str.strip()\n"
   ]
  },
  {
   "cell_type": "markdown",
   "id": "d84bbe7a",
   "metadata": {},
   "source": [
    "### Clean TN movie_budgets\n",
    "\n",
    "We remove currency symbols and commas from budget fields, convert dates to datetime format, and extract release years.\n"
   ]
  },
  {
   "cell_type": "code",
   "execution_count": 6,
   "id": "4cfc83ba",
   "metadata": {},
   "outputs": [],
   "source": [
    "\n",
    "for col in ['production_budget', 'domestic_gross', 'worldwide_gross']:\n",
    "    df_budgets[col] = (\n",
    "        df_budgets[col]\n",
    "        .replace(r'[\\$,]', '', regex=True)\n",
    "        .replace('', np.nan)  # Replace empty strings with NaN\n",
    "    )\n",
    "    df_budgets[col] = pd.to_numeric(df_budgets[col], errors='coerce')  # Safe conversion\n"
   ]
  },
  {
   "cell_type": "markdown",
   "id": "ee1eea2e",
   "metadata": {},
   "source": [
    "### Clean Rotten Tomatoes movie_info\n",
    "\n",
    "We parse dates, convert box office strings to numeric, and create a clean_title for joining (here we use ID for simplicity).\n"
   ]
  },
  {
   "cell_type": "code",
   "execution_count": 7,
   "id": "7ed35f58",
   "metadata": {},
   "outputs": [],
   "source": [
    "\n",
    "df_rt_info['theater_date'] = pd.to_datetime(df_rt_info['theater_date'], errors='coerce')\n",
    "df_rt_info['box_office'] = df_rt_info['box_office'].replace('[\\$,]', '', regex=True).astype(float)\n",
    "df_rt_info['clean_title'] = df_rt_info['id'].astype(str)\n"
   ]
  },
  {
   "cell_type": "markdown",
   "id": "d52867c4",
   "metadata": {},
   "source": []
  }
 ],
 "metadata": {
  "kernelspec": {
   "display_name": "learn-env",
   "language": "python",
   "name": "python3"
  },
  "language_info": {
   "codemirror_mode": {
    "name": "ipython",
    "version": 3
   },
   "file_extension": ".py",
   "mimetype": "text/x-python",
   "name": "python",
   "nbconvert_exporter": "python",
   "pygments_lexer": "ipython3",
   "version": "3.8.5"
  }
 },
 "nbformat": 4,
 "nbformat_minor": 5
}
